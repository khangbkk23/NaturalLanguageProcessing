{
 "cells": [
  {
   "cell_type": "code",
   "execution_count": null,
   "id": "53bb7c5c",
   "metadata": {},
   "outputs": [
    {
     "name": "stdout",
     "output_type": "stream",
     "text": [
      "This notebook was last run on 2025-09-06 23:09:45\n"
     ]
    }
   ],
   "source": [
    "# import libraries\n",
    "import datetime\n",
    "print(f\"This notebook was last run on {datetime.datetime.now():%Y-%m-%d %H:%M:%S}\")\n",
    "\n",
    "import os\n",
    "import numpy as np"
   ]
  }
 ],
 "metadata": {
  "kernelspec": {
   "display_name": "Python 3",
   "language": "python",
   "name": "python3"
  },
  "language_info": {
   "codemirror_mode": {
    "name": "ipython",
    "version": 3
   },
   "file_extension": ".py",
   "mimetype": "text/x-python",
   "name": "python",
   "nbconvert_exporter": "python",
   "pygments_lexer": "ipython3",
   "version": "3.10.13"
  }
 },
 "nbformat": 4,
 "nbformat_minor": 5
}
